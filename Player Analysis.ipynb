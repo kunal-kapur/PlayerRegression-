{
 "cells": [
  {
   "cell_type": "markdown",
   "metadata": {},
   "source": [
    "## NBA Player Scoring Predictor \n"
   ]
  },
  {
   "cell_type": "markdown",
   "metadata": {},
   "source": [
    "In the NBA, coaches need to figure out how to divide player minutes in order to get the most production out of them. This notebook is meant to analayze how players' scoring changes as a result of a change in their minutes from one season onto the next one. "
   ]
  },
  {
   "cell_type": "code",
   "execution_count": 326,
   "metadata": {},
   "outputs": [],
   "source": [
    "import pandas as pd\n",
    "import numpy as np\n",
    "import math\n",
    "import seaborn as sns\n",
    "import matplotlib.pyplot as plt\n",
    "from sklearn.linear_model import LogisticRegression\n",
    "from sklearn.linear_model import LinearRegression\n",
    "from sklearn.preprocessing import PolynomialFeatures\n",
    "from sklearn.pipeline import Pipeline\n",
    "from sklearn.cluster import KMeans as clustering\n",
    " \n",
    "model = LinearRegression()\n",
    "logModel = LogisticRegression(max_iter = 100000)"
   ]
  },
  {
   "cell_type": "code",
   "execution_count": 327,
   "metadata": {},
   "outputs": [
    {
     "data": {
      "text/html": [
       "<div>\n",
       "<style scoped>\n",
       "    .dataframe tbody tr th:only-of-type {\n",
       "        vertical-align: middle;\n",
       "    }\n",
       "\n",
       "    .dataframe tbody tr th {\n",
       "        vertical-align: top;\n",
       "    }\n",
       "\n",
       "    .dataframe thead th {\n",
       "        text-align: right;\n",
       "    }\n",
       "</style>\n",
       "<table border=\"1\" class=\"dataframe\">\n",
       "  <thead>\n",
       "    <tr style=\"text-align: right;\">\n",
       "      <th></th>\n",
       "      <th>Name</th>\n",
       "      <th>age</th>\n",
       "      <th>team_id</th>\n",
       "      <th>lg_id</th>\n",
       "      <th>pos</th>\n",
       "      <th>g</th>\n",
       "      <th>gs</th>\n",
       "      <th>mp_per_g</th>\n",
       "      <th>fg_per_g</th>\n",
       "      <th>fga_per_g</th>\n",
       "      <th>fg_pct</th>\n",
       "      <th>fg3_per_g</th>\n",
       "      <th>fg3a_per_g</th>\n",
       "      <th>fg3_pct</th>\n",
       "      <th>fg2_per_g</th>\n",
       "      <th>fg2a_per_g</th>\n",
       "      <th>fg2_pct</th>\n",
       "      <th>efg_pct</th>\n",
       "      <th>ft_per_g</th>\n",
       "      <th>fta_per_g</th>\n",
       "      <th>ft_pct</th>\n",
       "      <th>orb_per_g</th>\n",
       "      <th>drb_per_g</th>\n",
       "      <th>trb_per_g</th>\n",
       "      <th>ast_per_g</th>\n",
       "      <th>stl_per_g</th>\n",
       "      <th>blk_per_g</th>\n",
       "      <th>tov_per_g</th>\n",
       "      <th>pf_per_g</th>\n",
       "      <th>pts_per_g</th>\n",
       "    </tr>\n",
       "  </thead>\n",
       "  <tbody>\n",
       "    <tr>\n",
       "      <th>0</th>\n",
       "      <td>Jaylen Adams</td>\n",
       "      <td>22</td>\n",
       "      <td>ATL</td>\n",
       "      <td>NBA</td>\n",
       "      <td>PG</td>\n",
       "      <td>34</td>\n",
       "      <td>1</td>\n",
       "      <td>12.6</td>\n",
       "      <td>1.1</td>\n",
       "      <td>3.2</td>\n",
       "      <td>0.345</td>\n",
       "      <td>0.7</td>\n",
       "      <td>2.2</td>\n",
       "      <td>0.338</td>\n",
       "      <td>0.4</td>\n",
       "      <td>1.1</td>\n",
       "      <td>0.361</td>\n",
       "      <td>0.459</td>\n",
       "      <td>0.2</td>\n",
       "      <td>0.3</td>\n",
       "      <td>0.778</td>\n",
       "      <td>0.3</td>\n",
       "      <td>1.4</td>\n",
       "      <td>1.8</td>\n",
       "      <td>1.9</td>\n",
       "      <td>0.4</td>\n",
       "      <td>0.1</td>\n",
       "      <td>0.8</td>\n",
       "      <td>1.3</td>\n",
       "      <td>3.2</td>\n",
       "    </tr>\n",
       "    <tr>\n",
       "      <th>1</th>\n",
       "      <td>Jaylen Adams</td>\n",
       "      <td>24</td>\n",
       "      <td>MIL</td>\n",
       "      <td>NBA</td>\n",
       "      <td>PG</td>\n",
       "      <td>7</td>\n",
       "      <td>0</td>\n",
       "      <td>2.6</td>\n",
       "      <td>0.1</td>\n",
       "      <td>1.1</td>\n",
       "      <td>0.125</td>\n",
       "      <td>0.0</td>\n",
       "      <td>0.3</td>\n",
       "      <td>0.000</td>\n",
       "      <td>0.1</td>\n",
       "      <td>0.9</td>\n",
       "      <td>0.167</td>\n",
       "      <td>0.125</td>\n",
       "      <td>0.0</td>\n",
       "      <td>0.0</td>\n",
       "      <td>0.000</td>\n",
       "      <td>0.0</td>\n",
       "      <td>0.4</td>\n",
       "      <td>0.4</td>\n",
       "      <td>0.3</td>\n",
       "      <td>0.0</td>\n",
       "      <td>0.0</td>\n",
       "      <td>0.0</td>\n",
       "      <td>0.1</td>\n",
       "      <td>0.3</td>\n",
       "    </tr>\n",
       "    <tr>\n",
       "      <th>2</th>\n",
       "      <td>Steven Adams</td>\n",
       "      <td>20</td>\n",
       "      <td>OKC</td>\n",
       "      <td>NBA</td>\n",
       "      <td>C</td>\n",
       "      <td>81</td>\n",
       "      <td>20</td>\n",
       "      <td>14.8</td>\n",
       "      <td>1.1</td>\n",
       "      <td>2.3</td>\n",
       "      <td>0.503</td>\n",
       "      <td>0.0</td>\n",
       "      <td>0.0</td>\n",
       "      <td>0.000</td>\n",
       "      <td>1.1</td>\n",
       "      <td>2.3</td>\n",
       "      <td>0.503</td>\n",
       "      <td>0.503</td>\n",
       "      <td>1.0</td>\n",
       "      <td>1.7</td>\n",
       "      <td>0.581</td>\n",
       "      <td>1.8</td>\n",
       "      <td>2.3</td>\n",
       "      <td>4.1</td>\n",
       "      <td>0.5</td>\n",
       "      <td>0.5</td>\n",
       "      <td>0.7</td>\n",
       "      <td>0.9</td>\n",
       "      <td>2.5</td>\n",
       "      <td>3.3</td>\n",
       "    </tr>\n",
       "    <tr>\n",
       "      <th>3</th>\n",
       "      <td>Steven Adams</td>\n",
       "      <td>21</td>\n",
       "      <td>OKC</td>\n",
       "      <td>NBA</td>\n",
       "      <td>C</td>\n",
       "      <td>70</td>\n",
       "      <td>67</td>\n",
       "      <td>25.3</td>\n",
       "      <td>3.1</td>\n",
       "      <td>5.7</td>\n",
       "      <td>0.544</td>\n",
       "      <td>0.0</td>\n",
       "      <td>0.0</td>\n",
       "      <td>0.000</td>\n",
       "      <td>3.1</td>\n",
       "      <td>5.7</td>\n",
       "      <td>0.547</td>\n",
       "      <td>0.544</td>\n",
       "      <td>1.5</td>\n",
       "      <td>2.9</td>\n",
       "      <td>0.502</td>\n",
       "      <td>2.8</td>\n",
       "      <td>4.6</td>\n",
       "      <td>7.5</td>\n",
       "      <td>0.9</td>\n",
       "      <td>0.5</td>\n",
       "      <td>1.2</td>\n",
       "      <td>1.4</td>\n",
       "      <td>3.2</td>\n",
       "      <td>7.7</td>\n",
       "    </tr>\n",
       "    <tr>\n",
       "      <th>4</th>\n",
       "      <td>Steven Adams</td>\n",
       "      <td>22</td>\n",
       "      <td>OKC</td>\n",
       "      <td>NBA</td>\n",
       "      <td>C</td>\n",
       "      <td>80</td>\n",
       "      <td>80</td>\n",
       "      <td>25.2</td>\n",
       "      <td>3.3</td>\n",
       "      <td>5.3</td>\n",
       "      <td>0.613</td>\n",
       "      <td>0.0</td>\n",
       "      <td>0.0</td>\n",
       "      <td>0.000</td>\n",
       "      <td>3.3</td>\n",
       "      <td>5.3</td>\n",
       "      <td>0.613</td>\n",
       "      <td>0.613</td>\n",
       "      <td>1.4</td>\n",
       "      <td>2.5</td>\n",
       "      <td>0.582</td>\n",
       "      <td>2.7</td>\n",
       "      <td>3.9</td>\n",
       "      <td>6.7</td>\n",
       "      <td>0.8</td>\n",
       "      <td>0.5</td>\n",
       "      <td>1.1</td>\n",
       "      <td>1.1</td>\n",
       "      <td>2.8</td>\n",
       "      <td>8.0</td>\n",
       "    </tr>\n",
       "  </tbody>\n",
       "</table>\n",
       "</div>"
      ],
      "text/plain": [
       "           Name  age team_id lg_id pos   g  gs  mp_per_g  fg_per_g  fga_per_g  \\\n",
       "0  Jaylen Adams   22     ATL   NBA  PG  34   1      12.6       1.1        3.2   \n",
       "1  Jaylen Adams   24     MIL   NBA  PG   7   0       2.6       0.1        1.1   \n",
       "2  Steven Adams   20     OKC   NBA   C  81  20      14.8       1.1        2.3   \n",
       "3  Steven Adams   21     OKC   NBA   C  70  67      25.3       3.1        5.7   \n",
       "4  Steven Adams   22     OKC   NBA   C  80  80      25.2       3.3        5.3   \n",
       "\n",
       "   fg_pct  fg3_per_g  fg3a_per_g  fg3_pct  fg2_per_g  fg2a_per_g  fg2_pct  \\\n",
       "0   0.345        0.7         2.2    0.338        0.4         1.1    0.361   \n",
       "1   0.125        0.0         0.3    0.000        0.1         0.9    0.167   \n",
       "2   0.503        0.0         0.0    0.000        1.1         2.3    0.503   \n",
       "3   0.544        0.0         0.0    0.000        3.1         5.7    0.547   \n",
       "4   0.613        0.0         0.0    0.000        3.3         5.3    0.613   \n",
       "\n",
       "   efg_pct  ft_per_g  fta_per_g  ft_pct  orb_per_g  drb_per_g  trb_per_g  \\\n",
       "0    0.459       0.2        0.3   0.778        0.3        1.4        1.8   \n",
       "1    0.125       0.0        0.0   0.000        0.0        0.4        0.4   \n",
       "2    0.503       1.0        1.7   0.581        1.8        2.3        4.1   \n",
       "3    0.544       1.5        2.9   0.502        2.8        4.6        7.5   \n",
       "4    0.613       1.4        2.5   0.582        2.7        3.9        6.7   \n",
       "\n",
       "   ast_per_g  stl_per_g  blk_per_g  tov_per_g  pf_per_g  pts_per_g  \n",
       "0        1.9        0.4        0.1        0.8       1.3        3.2  \n",
       "1        0.3        0.0        0.0        0.0       0.1        0.3  \n",
       "2        0.5        0.5        0.7        0.9       2.5        3.3  \n",
       "3        0.9        0.5        1.2        1.4       3.2        7.7  \n",
       "4        0.8        0.5        1.1        1.1       2.8        8.0  "
      ]
     },
     "execution_count": 327,
     "metadata": {},
     "output_type": "execute_result"
    }
   ],
   "source": [
    "df= pd.read_csv(\"NBA_Player_Data.csv\")\n",
    "pd.set_option(\"display.max_columns\", None)\n",
    "df.head()"
   ]
  },
  {
   "cell_type": "markdown",
   "metadata": {},
   "source": [
    "# Cleaning Data "
   ]
  },
  {
   "cell_type": "markdown",
   "metadata": {},
   "source": [
    "Dropping uncessary columns from data."
   ]
  },
  {
   "cell_type": "code",
   "execution_count": 328,
   "metadata": {},
   "outputs": [
    {
     "data": {
      "text/html": [
       "<div>\n",
       "<style scoped>\n",
       "    .dataframe tbody tr th:only-of-type {\n",
       "        vertical-align: middle;\n",
       "    }\n",
       "\n",
       "    .dataframe tbody tr th {\n",
       "        vertical-align: top;\n",
       "    }\n",
       "\n",
       "    .dataframe thead th {\n",
       "        text-align: right;\n",
       "    }\n",
       "</style>\n",
       "<table border=\"1\" class=\"dataframe\">\n",
       "  <thead>\n",
       "    <tr style=\"text-align: right;\">\n",
       "      <th></th>\n",
       "      <th>Name</th>\n",
       "      <th>age</th>\n",
       "      <th>pos</th>\n",
       "      <th>mp_per_g</th>\n",
       "      <th>fga_per_g</th>\n",
       "      <th>fg3a_per_g</th>\n",
       "      <th>fg2a_per_g</th>\n",
       "      <th>fta_per_g</th>\n",
       "      <th>orb_per_g</th>\n",
       "      <th>drb_per_g</th>\n",
       "      <th>trb_per_g</th>\n",
       "      <th>ast_per_g</th>\n",
       "      <th>stl_per_g</th>\n",
       "      <th>blk_per_g</th>\n",
       "      <th>tov_per_g</th>\n",
       "      <th>pf_per_g</th>\n",
       "      <th>pts_per_g</th>\n",
       "    </tr>\n",
       "  </thead>\n",
       "  <tbody>\n",
       "    <tr>\n",
       "      <th>0</th>\n",
       "      <td>Jaylen Adams</td>\n",
       "      <td>22</td>\n",
       "      <td>PG</td>\n",
       "      <td>12.6</td>\n",
       "      <td>3.2</td>\n",
       "      <td>2.2</td>\n",
       "      <td>1.1</td>\n",
       "      <td>0.3</td>\n",
       "      <td>0.3</td>\n",
       "      <td>1.4</td>\n",
       "      <td>1.8</td>\n",
       "      <td>1.9</td>\n",
       "      <td>0.4</td>\n",
       "      <td>0.1</td>\n",
       "      <td>0.8</td>\n",
       "      <td>1.3</td>\n",
       "      <td>3.2</td>\n",
       "    </tr>\n",
       "    <tr>\n",
       "      <th>1</th>\n",
       "      <td>Jaylen Adams</td>\n",
       "      <td>24</td>\n",
       "      <td>PG</td>\n",
       "      <td>2.6</td>\n",
       "      <td>1.1</td>\n",
       "      <td>0.3</td>\n",
       "      <td>0.9</td>\n",
       "      <td>0.0</td>\n",
       "      <td>0.0</td>\n",
       "      <td>0.4</td>\n",
       "      <td>0.4</td>\n",
       "      <td>0.3</td>\n",
       "      <td>0.0</td>\n",
       "      <td>0.0</td>\n",
       "      <td>0.0</td>\n",
       "      <td>0.1</td>\n",
       "      <td>0.3</td>\n",
       "    </tr>\n",
       "    <tr>\n",
       "      <th>2</th>\n",
       "      <td>Steven Adams</td>\n",
       "      <td>20</td>\n",
       "      <td>C</td>\n",
       "      <td>14.8</td>\n",
       "      <td>2.3</td>\n",
       "      <td>0.0</td>\n",
       "      <td>2.3</td>\n",
       "      <td>1.7</td>\n",
       "      <td>1.8</td>\n",
       "      <td>2.3</td>\n",
       "      <td>4.1</td>\n",
       "      <td>0.5</td>\n",
       "      <td>0.5</td>\n",
       "      <td>0.7</td>\n",
       "      <td>0.9</td>\n",
       "      <td>2.5</td>\n",
       "      <td>3.3</td>\n",
       "    </tr>\n",
       "    <tr>\n",
       "      <th>3</th>\n",
       "      <td>Steven Adams</td>\n",
       "      <td>21</td>\n",
       "      <td>C</td>\n",
       "      <td>25.3</td>\n",
       "      <td>5.7</td>\n",
       "      <td>0.0</td>\n",
       "      <td>5.7</td>\n",
       "      <td>2.9</td>\n",
       "      <td>2.8</td>\n",
       "      <td>4.6</td>\n",
       "      <td>7.5</td>\n",
       "      <td>0.9</td>\n",
       "      <td>0.5</td>\n",
       "      <td>1.2</td>\n",
       "      <td>1.4</td>\n",
       "      <td>3.2</td>\n",
       "      <td>7.7</td>\n",
       "    </tr>\n",
       "    <tr>\n",
       "      <th>4</th>\n",
       "      <td>Steven Adams</td>\n",
       "      <td>22</td>\n",
       "      <td>C</td>\n",
       "      <td>25.2</td>\n",
       "      <td>5.3</td>\n",
       "      <td>0.0</td>\n",
       "      <td>5.3</td>\n",
       "      <td>2.5</td>\n",
       "      <td>2.7</td>\n",
       "      <td>3.9</td>\n",
       "      <td>6.7</td>\n",
       "      <td>0.8</td>\n",
       "      <td>0.5</td>\n",
       "      <td>1.1</td>\n",
       "      <td>1.1</td>\n",
       "      <td>2.8</td>\n",
       "      <td>8.0</td>\n",
       "    </tr>\n",
       "  </tbody>\n",
       "</table>\n",
       "</div>"
      ],
      "text/plain": [
       "           Name  age pos  mp_per_g  fga_per_g  fg3a_per_g  fg2a_per_g  \\\n",
       "0  Jaylen Adams   22  PG      12.6        3.2         2.2         1.1   \n",
       "1  Jaylen Adams   24  PG       2.6        1.1         0.3         0.9   \n",
       "2  Steven Adams   20   C      14.8        2.3         0.0         2.3   \n",
       "3  Steven Adams   21   C      25.3        5.7         0.0         5.7   \n",
       "4  Steven Adams   22   C      25.2        5.3         0.0         5.3   \n",
       "\n",
       "   fta_per_g  orb_per_g  drb_per_g  trb_per_g  ast_per_g  stl_per_g  \\\n",
       "0        0.3        0.3        1.4        1.8        1.9        0.4   \n",
       "1        0.0        0.0        0.4        0.4        0.3        0.0   \n",
       "2        1.7        1.8        2.3        4.1        0.5        0.5   \n",
       "3        2.9        2.8        4.6        7.5        0.9        0.5   \n",
       "4        2.5        2.7        3.9        6.7        0.8        0.5   \n",
       "\n",
       "   blk_per_g  tov_per_g  pf_per_g  pts_per_g  \n",
       "0        0.1        0.8       1.3        3.2  \n",
       "1        0.0        0.0       0.1        0.3  \n",
       "2        0.7        0.9       2.5        3.3  \n",
       "3        1.2        1.4       3.2        7.7  \n",
       "4        1.1        1.1       2.8        8.0  "
      ]
     },
     "execution_count": 328,
     "metadata": {},
     "output_type": "execute_result"
    }
   ],
   "source": [
    "df = df.drop(columns=['team_id','lg_id','gs','g','fg_per_g','fg_pct','fg3_per_g','fg3_pct','fg2_per_g','fg2_pct'\n",
    "                     ,'efg_pct','ft_per_g','ft_pct'])\n",
    "df.head()"
   ]
  },
  {
   "cell_type": "markdown",
   "metadata": {},
   "source": [
    "This analysis is meant to analyaze how a players scoring will be effected by their minutes. Things like league ID don't tell us anything as all these players play on the same team. Though the team a player plays on may have an effect on their scoring, because we are taking this over several seasons, and the construction of teams varies over that period of time, we will assume that all teams provide an equal chance for scoring improvement of regression. Additionally, other stats like field goal perentage are redundant as they are simply the amount of makes a player has of a type of field goal, divided by the how many they took. The amount of field goals and 3 pointers taken is a valuable piece of information as it describes how a player looks to score"
   ]
  },
  {
   "cell_type": "code",
   "execution_count": 329,
   "metadata": {},
   "outputs": [
    {
     "data": {
      "text/html": [
       "<div>\n",
       "<style scoped>\n",
       "    .dataframe tbody tr th:only-of-type {\n",
       "        vertical-align: middle;\n",
       "    }\n",
       "\n",
       "    .dataframe tbody tr th {\n",
       "        vertical-align: top;\n",
       "    }\n",
       "\n",
       "    .dataframe thead th {\n",
       "        text-align: right;\n",
       "    }\n",
       "</style>\n",
       "<table border=\"1\" class=\"dataframe\">\n",
       "  <thead>\n",
       "    <tr style=\"text-align: right;\">\n",
       "      <th></th>\n",
       "      <th>Name</th>\n",
       "      <th>age</th>\n",
       "      <th>pos</th>\n",
       "      <th>mp_per_g</th>\n",
       "      <th>fga_per_g</th>\n",
       "      <th>fg3a_per_g</th>\n",
       "      <th>fg2a_per_g</th>\n",
       "      <th>fta_per_g</th>\n",
       "      <th>orb_per_g</th>\n",
       "      <th>drb_per_g</th>\n",
       "      <th>trb_per_g</th>\n",
       "      <th>ast_per_g</th>\n",
       "      <th>stl_per_g</th>\n",
       "      <th>blk_per_g</th>\n",
       "      <th>tov_per_g</th>\n",
       "      <th>pf_per_g</th>\n",
       "      <th>pts_per_g</th>\n",
       "    </tr>\n",
       "  </thead>\n",
       "  <tbody>\n",
       "    <tr>\n",
       "      <th>635</th>\n",
       "      <td>Robert Covington</td>\n",
       "      <td>29</td>\n",
       "      <td>C,PF</td>\n",
       "      <td>30.5</td>\n",
       "      <td>10.3</td>\n",
       "      <td>6.9</td>\n",
       "      <td>3.5</td>\n",
       "      <td>1.8</td>\n",
       "      <td>0.9</td>\n",
       "      <td>5.7</td>\n",
       "      <td>6.6</td>\n",
       "      <td>1.3</td>\n",
       "      <td>1.6</td>\n",
       "      <td>1.3</td>\n",
       "      <td>1.5</td>\n",
       "      <td>3.1</td>\n",
       "      <td>12.4</td>\n",
       "    </tr>\n",
       "    <tr>\n",
       "      <th>694</th>\n",
       "      <td>Ed Davis</td>\n",
       "      <td>23</td>\n",
       "      <td>C,PF</td>\n",
       "      <td>20.1</td>\n",
       "      <td>6.0</td>\n",
       "      <td>0.0</td>\n",
       "      <td>6.0</td>\n",
       "      <td>2.1</td>\n",
       "      <td>1.9</td>\n",
       "      <td>3.8</td>\n",
       "      <td>5.7</td>\n",
       "      <td>0.8</td>\n",
       "      <td>0.5</td>\n",
       "      <td>1.0</td>\n",
       "      <td>0.8</td>\n",
       "      <td>2.4</td>\n",
       "      <td>7.7</td>\n",
       "    </tr>\n",
       "    <tr>\n",
       "      <th>990</th>\n",
       "      <td>Daniel Gafford</td>\n",
       "      <td>22</td>\n",
       "      <td>C,PF</td>\n",
       "      <td>14.6</td>\n",
       "      <td>4.2</td>\n",
       "      <td>0.0</td>\n",
       "      <td>4.2</td>\n",
       "      <td>2.0</td>\n",
       "      <td>1.7</td>\n",
       "      <td>2.5</td>\n",
       "      <td>4.3</td>\n",
       "      <td>0.5</td>\n",
       "      <td>0.5</td>\n",
       "      <td>1.4</td>\n",
       "      <td>0.8</td>\n",
       "      <td>1.8</td>\n",
       "      <td>7.0</td>\n",
       "    </tr>\n",
       "    <tr>\n",
       "      <th>1181</th>\n",
       "      <td>Jeff Green</td>\n",
       "      <td>33</td>\n",
       "      <td>C,PF</td>\n",
       "      <td>20.0</td>\n",
       "      <td>7.2</td>\n",
       "      <td>3.8</td>\n",
       "      <td>3.4</td>\n",
       "      <td>1.9</td>\n",
       "      <td>0.5</td>\n",
       "      <td>2.3</td>\n",
       "      <td>2.8</td>\n",
       "      <td>1.0</td>\n",
       "      <td>0.5</td>\n",
       "      <td>0.4</td>\n",
       "      <td>0.9</td>\n",
       "      <td>1.9</td>\n",
       "      <td>9.4</td>\n",
       "    </tr>\n",
       "    <tr>\n",
       "      <th>1204</th>\n",
       "      <td>Donta Hall</td>\n",
       "      <td>22</td>\n",
       "      <td>C,PF</td>\n",
       "      <td>14.8</td>\n",
       "      <td>2.4</td>\n",
       "      <td>0.0</td>\n",
       "      <td>2.4</td>\n",
       "      <td>2.0</td>\n",
       "      <td>1.6</td>\n",
       "      <td>2.7</td>\n",
       "      <td>4.2</td>\n",
       "      <td>0.4</td>\n",
       "      <td>0.3</td>\n",
       "      <td>0.7</td>\n",
       "      <td>0.6</td>\n",
       "      <td>2.6</td>\n",
       "      <td>4.3</td>\n",
       "    </tr>\n",
       "    <tr>\n",
       "      <th>1648</th>\n",
       "      <td>James Johnson</td>\n",
       "      <td>32</td>\n",
       "      <td>C,PF</td>\n",
       "      <td>19.3</td>\n",
       "      <td>6.7</td>\n",
       "      <td>2.8</td>\n",
       "      <td>3.9</td>\n",
       "      <td>1.5</td>\n",
       "      <td>0.8</td>\n",
       "      <td>2.9</td>\n",
       "      <td>3.7</td>\n",
       "      <td>2.3</td>\n",
       "      <td>0.8</td>\n",
       "      <td>1.0</td>\n",
       "      <td>1.5</td>\n",
       "      <td>2.5</td>\n",
       "      <td>8.4</td>\n",
       "    </tr>\n",
       "    <tr>\n",
       "      <th>1778</th>\n",
       "      <td>Luke Kornet</td>\n",
       "      <td>25</td>\n",
       "      <td>C,PF</td>\n",
       "      <td>11.2</td>\n",
       "      <td>3.3</td>\n",
       "      <td>1.9</td>\n",
       "      <td>1.4</td>\n",
       "      <td>0.2</td>\n",
       "      <td>0.5</td>\n",
       "      <td>1.7</td>\n",
       "      <td>2.2</td>\n",
       "      <td>0.8</td>\n",
       "      <td>0.1</td>\n",
       "      <td>1.0</td>\n",
       "      <td>0.2</td>\n",
       "      <td>0.6</td>\n",
       "      <td>3.4</td>\n",
       "    </tr>\n",
       "    <tr>\n",
       "      <th>1950</th>\n",
       "      <td>Thon Maker</td>\n",
       "      <td>21</td>\n",
       "      <td>C,PF</td>\n",
       "      <td>15.2</td>\n",
       "      <td>4.2</td>\n",
       "      <td>2.4</td>\n",
       "      <td>1.8</td>\n",
       "      <td>1.3</td>\n",
       "      <td>0.6</td>\n",
       "      <td>2.5</td>\n",
       "      <td>3.2</td>\n",
       "      <td>0.7</td>\n",
       "      <td>0.3</td>\n",
       "      <td>0.8</td>\n",
       "      <td>0.5</td>\n",
       "      <td>1.6</td>\n",
       "      <td>5.0</td>\n",
       "    </tr>\n",
       "    <tr>\n",
       "      <th>2315</th>\n",
       "      <td>Kelly Olynyk</td>\n",
       "      <td>29</td>\n",
       "      <td>C,PF</td>\n",
       "      <td>28.5</td>\n",
       "      <td>10.0</td>\n",
       "      <td>5.3</td>\n",
       "      <td>4.7</td>\n",
       "      <td>2.5</td>\n",
       "      <td>1.2</td>\n",
       "      <td>5.7</td>\n",
       "      <td>7.0</td>\n",
       "      <td>2.9</td>\n",
       "      <td>1.1</td>\n",
       "      <td>0.6</td>\n",
       "      <td>1.8</td>\n",
       "      <td>3.0</td>\n",
       "      <td>13.5</td>\n",
       "    </tr>\n",
       "  </tbody>\n",
       "</table>\n",
       "</div>"
      ],
      "text/plain": [
       "                  Name  age   pos  mp_per_g  fga_per_g  fg3a_per_g  \\\n",
       "635   Robert Covington   29  C,PF      30.5       10.3         6.9   \n",
       "694           Ed Davis   23  C,PF      20.1        6.0         0.0   \n",
       "990     Daniel Gafford   22  C,PF      14.6        4.2         0.0   \n",
       "1181        Jeff Green   33  C,PF      20.0        7.2         3.8   \n",
       "1204        Donta Hall   22  C,PF      14.8        2.4         0.0   \n",
       "1648     James Johnson   32  C,PF      19.3        6.7         2.8   \n",
       "1778       Luke Kornet   25  C,PF      11.2        3.3         1.9   \n",
       "1950        Thon Maker   21  C,PF      15.2        4.2         2.4   \n",
       "2315      Kelly Olynyk   29  C,PF      28.5       10.0         5.3   \n",
       "\n",
       "      fg2a_per_g  fta_per_g  orb_per_g  drb_per_g  trb_per_g  ast_per_g  \\\n",
       "635          3.5        1.8        0.9        5.7        6.6        1.3   \n",
       "694          6.0        2.1        1.9        3.8        5.7        0.8   \n",
       "990          4.2        2.0        1.7        2.5        4.3        0.5   \n",
       "1181         3.4        1.9        0.5        2.3        2.8        1.0   \n",
       "1204         2.4        2.0        1.6        2.7        4.2        0.4   \n",
       "1648         3.9        1.5        0.8        2.9        3.7        2.3   \n",
       "1778         1.4        0.2        0.5        1.7        2.2        0.8   \n",
       "1950         1.8        1.3        0.6        2.5        3.2        0.7   \n",
       "2315         4.7        2.5        1.2        5.7        7.0        2.9   \n",
       "\n",
       "      stl_per_g  blk_per_g  tov_per_g  pf_per_g  pts_per_g  \n",
       "635         1.6        1.3        1.5       3.1       12.4  \n",
       "694         0.5        1.0        0.8       2.4        7.7  \n",
       "990         0.5        1.4        0.8       1.8        7.0  \n",
       "1181        0.5        0.4        0.9       1.9        9.4  \n",
       "1204        0.3        0.7        0.6       2.6        4.3  \n",
       "1648        0.8        1.0        1.5       2.5        8.4  \n",
       "1778        0.1        1.0        0.2       0.6        3.4  \n",
       "1950        0.3        0.8        0.5       1.6        5.0  \n",
       "2315        1.1        0.6        1.8       3.0       13.5  "
      ]
     },
     "execution_count": 329,
     "metadata": {},
     "output_type": "execute_result"
    }
   ],
   "source": [
    "df.loc[df['pos']=='C,PF']\n"
   ]
  },
  {
   "cell_type": "markdown",
   "metadata": {},
   "source": [
    "## Creating and adding dummy variables for position"
   ]
  },
  {
   "cell_type": "code",
   "execution_count": 330,
   "metadata": {},
   "outputs": [],
   "source": [
    "def remove_extra_positions(val):\n",
    "    if val =='C,PF':\n",
    "        \n",
    "        return 'PF'\n",
    "    elif val== \"PF,SF\":\n",
    "        return \"SF\"\n",
    "    elif val==\"PG,SG\":\n",
    "        return \"PG\"\n",
    "    elif val==\"SF,SG\":\n",
    "        return \"SG\"\n",
    "    else:\n",
    "        return val\n"
   ]
  },
  {
   "cell_type": "markdown",
   "metadata": {},
   "source": [
    "Because basketball players can play several positions, such as a shooting guard playing point guard and vice versa, we must set their position to one value for the purposes of consitency. Positions are ordered 1-5 where the 1 is the point guard, 2 is the shooting guard, 3 is the small forward, 4 is a power forward, and 5 is a center. Typically, the position a player plays has an effect on other statistics such as how much they rebound, score and assist. For this, if a player is considered for 2 positions, they will be moved back to the position of the lesser value so a player who plays shooting guard and point guard will be consdered and point guard, a player playing center and power forward will be considered a power forward and so on. "
   ]
  },
  {
   "cell_type": "code",
   "execution_count": 331,
   "metadata": {},
   "outputs": [
    {
     "data": {
      "text/plain": [
       "array(['PG', 'C', 'PF', 'SG', 'SF'], dtype=object)"
      ]
     },
     "execution_count": 331,
     "metadata": {},
     "output_type": "execute_result"
    }
   ],
   "source": [
    "#Check if exrtra variables are there\n",
    "df['pos'] = df['pos'].apply(lambda x:remove_extra_positions(x))\n",
    "df['pos'].unique()"
   ]
  },
  {
   "cell_type": "code",
   "execution_count": 332,
   "metadata": {},
   "outputs": [],
   "source": [
    "#combind the data frames\n",
    "dummies = pd.get_dummies(df.pos)\n",
    "df = pd.concat([df,dummies],axis=1)     "
   ]
  },
  {
   "cell_type": "code",
   "execution_count": 333,
   "metadata": {},
   "outputs": [
    {
     "data": {
      "text/html": [
       "<div>\n",
       "<style scoped>\n",
       "    .dataframe tbody tr th:only-of-type {\n",
       "        vertical-align: middle;\n",
       "    }\n",
       "\n",
       "    .dataframe tbody tr th {\n",
       "        vertical-align: top;\n",
       "    }\n",
       "\n",
       "    .dataframe thead th {\n",
       "        text-align: right;\n",
       "    }\n",
       "</style>\n",
       "<table border=\"1\" class=\"dataframe\">\n",
       "  <thead>\n",
       "    <tr style=\"text-align: right;\">\n",
       "      <th></th>\n",
       "      <th>Name</th>\n",
       "      <th>age</th>\n",
       "      <th>mp_per_g</th>\n",
       "      <th>fga_per_g</th>\n",
       "      <th>fg3a_per_g</th>\n",
       "      <th>fg2a_per_g</th>\n",
       "      <th>fta_per_g</th>\n",
       "      <th>orb_per_g</th>\n",
       "      <th>drb_per_g</th>\n",
       "      <th>trb_per_g</th>\n",
       "      <th>ast_per_g</th>\n",
       "      <th>stl_per_g</th>\n",
       "      <th>blk_per_g</th>\n",
       "      <th>tov_per_g</th>\n",
       "      <th>pf_per_g</th>\n",
       "      <th>pts_per_g</th>\n",
       "      <th>PF</th>\n",
       "      <th>PG</th>\n",
       "      <th>SF</th>\n",
       "      <th>SG</th>\n",
       "    </tr>\n",
       "  </thead>\n",
       "  <tbody>\n",
       "    <tr>\n",
       "      <th>0</th>\n",
       "      <td>Jaylen Adams</td>\n",
       "      <td>22</td>\n",
       "      <td>12.6</td>\n",
       "      <td>3.2</td>\n",
       "      <td>2.2</td>\n",
       "      <td>1.1</td>\n",
       "      <td>0.3</td>\n",
       "      <td>0.3</td>\n",
       "      <td>1.4</td>\n",
       "      <td>1.8</td>\n",
       "      <td>1.9</td>\n",
       "      <td>0.4</td>\n",
       "      <td>0.1</td>\n",
       "      <td>0.8</td>\n",
       "      <td>1.3</td>\n",
       "      <td>3.2</td>\n",
       "      <td>0</td>\n",
       "      <td>1</td>\n",
       "      <td>0</td>\n",
       "      <td>0</td>\n",
       "    </tr>\n",
       "    <tr>\n",
       "      <th>1</th>\n",
       "      <td>Jaylen Adams</td>\n",
       "      <td>24</td>\n",
       "      <td>2.6</td>\n",
       "      <td>1.1</td>\n",
       "      <td>0.3</td>\n",
       "      <td>0.9</td>\n",
       "      <td>0.0</td>\n",
       "      <td>0.0</td>\n",
       "      <td>0.4</td>\n",
       "      <td>0.4</td>\n",
       "      <td>0.3</td>\n",
       "      <td>0.0</td>\n",
       "      <td>0.0</td>\n",
       "      <td>0.0</td>\n",
       "      <td>0.1</td>\n",
       "      <td>0.3</td>\n",
       "      <td>0</td>\n",
       "      <td>1</td>\n",
       "      <td>0</td>\n",
       "      <td>0</td>\n",
       "    </tr>\n",
       "    <tr>\n",
       "      <th>2</th>\n",
       "      <td>Steven Adams</td>\n",
       "      <td>20</td>\n",
       "      <td>14.8</td>\n",
       "      <td>2.3</td>\n",
       "      <td>0.0</td>\n",
       "      <td>2.3</td>\n",
       "      <td>1.7</td>\n",
       "      <td>1.8</td>\n",
       "      <td>2.3</td>\n",
       "      <td>4.1</td>\n",
       "      <td>0.5</td>\n",
       "      <td>0.5</td>\n",
       "      <td>0.7</td>\n",
       "      <td>0.9</td>\n",
       "      <td>2.5</td>\n",
       "      <td>3.3</td>\n",
       "      <td>0</td>\n",
       "      <td>0</td>\n",
       "      <td>0</td>\n",
       "      <td>0</td>\n",
       "    </tr>\n",
       "    <tr>\n",
       "      <th>3</th>\n",
       "      <td>Steven Adams</td>\n",
       "      <td>21</td>\n",
       "      <td>25.3</td>\n",
       "      <td>5.7</td>\n",
       "      <td>0.0</td>\n",
       "      <td>5.7</td>\n",
       "      <td>2.9</td>\n",
       "      <td>2.8</td>\n",
       "      <td>4.6</td>\n",
       "      <td>7.5</td>\n",
       "      <td>0.9</td>\n",
       "      <td>0.5</td>\n",
       "      <td>1.2</td>\n",
       "      <td>1.4</td>\n",
       "      <td>3.2</td>\n",
       "      <td>7.7</td>\n",
       "      <td>0</td>\n",
       "      <td>0</td>\n",
       "      <td>0</td>\n",
       "      <td>0</td>\n",
       "    </tr>\n",
       "    <tr>\n",
       "      <th>4</th>\n",
       "      <td>Steven Adams</td>\n",
       "      <td>22</td>\n",
       "      <td>25.2</td>\n",
       "      <td>5.3</td>\n",
       "      <td>0.0</td>\n",
       "      <td>5.3</td>\n",
       "      <td>2.5</td>\n",
       "      <td>2.7</td>\n",
       "      <td>3.9</td>\n",
       "      <td>6.7</td>\n",
       "      <td>0.8</td>\n",
       "      <td>0.5</td>\n",
       "      <td>1.1</td>\n",
       "      <td>1.1</td>\n",
       "      <td>2.8</td>\n",
       "      <td>8.0</td>\n",
       "      <td>0</td>\n",
       "      <td>0</td>\n",
       "      <td>0</td>\n",
       "      <td>0</td>\n",
       "    </tr>\n",
       "  </tbody>\n",
       "</table>\n",
       "</div>"
      ],
      "text/plain": [
       "           Name  age  mp_per_g  fga_per_g  fg3a_per_g  fg2a_per_g  fta_per_g  \\\n",
       "0  Jaylen Adams   22      12.6        3.2         2.2         1.1        0.3   \n",
       "1  Jaylen Adams   24       2.6        1.1         0.3         0.9        0.0   \n",
       "2  Steven Adams   20      14.8        2.3         0.0         2.3        1.7   \n",
       "3  Steven Adams   21      25.3        5.7         0.0         5.7        2.9   \n",
       "4  Steven Adams   22      25.2        5.3         0.0         5.3        2.5   \n",
       "\n",
       "   orb_per_g  drb_per_g  trb_per_g  ast_per_g  stl_per_g  blk_per_g  \\\n",
       "0        0.3        1.4        1.8        1.9        0.4        0.1   \n",
       "1        0.0        0.4        0.4        0.3        0.0        0.0   \n",
       "2        1.8        2.3        4.1        0.5        0.5        0.7   \n",
       "3        2.8        4.6        7.5        0.9        0.5        1.2   \n",
       "4        2.7        3.9        6.7        0.8        0.5        1.1   \n",
       "\n",
       "   tov_per_g  pf_per_g  pts_per_g  PF  PG  SF  SG  \n",
       "0        0.8       1.3        3.2   0   1   0   0  \n",
       "1        0.0       0.1        0.3   0   1   0   0  \n",
       "2        0.9       2.5        3.3   0   0   0   0  \n",
       "3        1.4       3.2        7.7   0   0   0   0  \n",
       "4        1.1       2.8        8.0   0   0   0   0  "
      ]
     },
     "execution_count": 333,
     "metadata": {},
     "output_type": "execute_result"
    }
   ],
   "source": [
    "#dropping extra columns \n",
    "df = df.drop(columns=['C','pos'])\n",
    "df.head()"
   ]
  },
  {
   "cell_type": "markdown",
   "metadata": {},
   "source": [
    "The way dummy variables work is that a value of 1 to 0 is assigned to the position that a player has. Since the position a player plays is mutually exclusive it means they will only have a value of 1 for only one of the values in the parameters for position. Since there exists a scenario where if 4 of the values are 0, the position the player is must be position not labled 0. This means that we can drop one of the dummy variables and when the player is playing that particular position that was droppped, fill all the other values with 0 to imply that they are in that position. In this case we dropped the center position, so any player with the value of center will simply have [0,0,0,0] coresspoing to the values of [PG,SG,SF,PF]."
   ]
  },
  {
   "cell_type": "code",
   "execution_count": 334,
   "metadata": {},
   "outputs": [
    {
     "name": "stdout",
     "output_type": "stream",
     "text": [
      "0 0\n",
      "0 1\n",
      "1 0\n",
      "1 1\n"
     ]
    },
    {
     "data": {
      "image/png": "[encoded data removed]",
      "text/plain": [
       "<Figure size 432x288 with 4 Axes>"
      ]
     },
     "metadata": {
      "needs_background": "light"
     },
     "output_type": "display_data"
    }
   ],
   "source": [
    "figure, axis = plt.subplots(2, 2)\n",
    "axisIndex= 0\n",
    "pos_list = ['PF','PG','SF','SG']\n",
    "X = np.arange(0, math.pi*2, 0.05)\n",
    "Y1 = np.sin(X)\n",
    "Y2 = np.cos(X)\n",
    "Y3 = np.tan(X)\n",
    "Y4 = np.tanh(X)\n",
    "\n",
    "# axis[0, 0].plot(X, Y1)\n",
    "# axis[0, 0].set_title(\"Sine Function\")\n",
    "  \n",
    "# # For Cosine Function\n",
    "# axis[0, 1].plot(X, Y2)\n",
    "# axis[0, 1].set_title(\"Cosine Function\")\n",
    "  \n",
    "# # For Tangent Function\n",
    "# axis[1, 0].plot(X, Y3)\n",
    "# axis[1, 0].set_title(\"Tangent Function\")\n",
    "  \n",
    "# # For Tanh Function\n",
    "# axis[1, 1].plot(X, Y4)\n",
    "# axis[1, 1].set_title(\"Tanh Function\")\n",
    "\n",
    "for i in pos_list:\n",
    "    print(axisIndex//2,axisIndex%2)\n",
    "    col = df[df[i]==1]\n",
    "    axis[axisIndex//2][axisIndex%2].scatter(col['mp_per_g'],col['pts_per_g'])\n",
    "    axis[axisIndex//2][axisIndex%2].set_xlabel =('mp_per_g')\n",
    "    axis[axisIndex//2][axisIndex%2].set_ylabel('pts_per_g')\n",
    "    axis[axisIndex//2][axisIndex%2].set_title(i)\n",
    "   \n",
    "    axisIndex+=1\n",
    "    \n",
    "#     plt.show()"
   ]
  },
  {
   "cell_type": "markdown",
   "metadata": {},
   "source": [
    "When creating a scatter plot representing the minutes versus scoring among different players in different seasons, there seems to be no noticeable difference in the trends between positions. Thus we can eliminate positions as one of the variables wihin our linear regression "
   ]
  },
  {
   "cell_type": "code",
   "execution_count": 335,
   "metadata": {},
   "outputs": [
    {
     "data": {
      "text/html": [
       "<div>\n",
       "<style scoped>\n",
       "    .dataframe tbody tr th:only-of-type {\n",
       "        vertical-align: middle;\n",
       "    }\n",
       "\n",
       "    .dataframe tbody tr th {\n",
       "        vertical-align: top;\n",
       "    }\n",
       "\n",
       "    .dataframe thead th {\n",
       "        text-align: right;\n",
       "    }\n",
       "</style>\n",
       "<table border=\"1\" class=\"dataframe\">\n",
       "  <thead>\n",
       "    <tr style=\"text-align: right;\">\n",
       "      <th></th>\n",
       "      <th>Name</th>\n",
       "      <th>age</th>\n",
       "      <th>mp_per_g</th>\n",
       "      <th>fga_per_g</th>\n",
       "      <th>fg3a_per_g</th>\n",
       "      <th>fg2a_per_g</th>\n",
       "      <th>fta_per_g</th>\n",
       "      <th>orb_per_g</th>\n",
       "      <th>drb_per_g</th>\n",
       "      <th>trb_per_g</th>\n",
       "      <th>ast_per_g</th>\n",
       "      <th>stl_per_g</th>\n",
       "      <th>blk_per_g</th>\n",
       "      <th>tov_per_g</th>\n",
       "      <th>pf_per_g</th>\n",
       "      <th>pts_per_g</th>\n",
       "    </tr>\n",
       "  </thead>\n",
       "  <tbody>\n",
       "    <tr>\n",
       "      <th>0</th>\n",
       "      <td>Jaylen Adams</td>\n",
       "      <td>22</td>\n",
       "      <td>12.6</td>\n",
       "      <td>3.2</td>\n",
       "      <td>2.2</td>\n",
       "      <td>1.1</td>\n",
       "      <td>0.3</td>\n",
       "      <td>0.3</td>\n",
       "      <td>1.4</td>\n",
       "      <td>1.8</td>\n",
       "      <td>1.9</td>\n",
       "      <td>0.4</td>\n",
       "      <td>0.1</td>\n",
       "      <td>0.8</td>\n",
       "      <td>1.3</td>\n",
       "      <td>3.2</td>\n",
       "    </tr>\n",
       "  </tbody>\n",
       "</table>\n",
       "</div>"
      ],
      "text/plain": [
       "           Name  age  mp_per_g  fga_per_g  fg3a_per_g  fg2a_per_g  fta_per_g  \\\n",
       "0  Jaylen Adams   22      12.6        3.2         2.2         1.1        0.3   \n",
       "\n",
       "   orb_per_g  drb_per_g  trb_per_g  ast_per_g  stl_per_g  blk_per_g  \\\n",
       "0        0.3        1.4        1.8        1.9        0.4        0.1   \n",
       "\n",
       "   tov_per_g  pf_per_g  pts_per_g  \n",
       "0        0.8       1.3        3.2  "
      ]
     },
     "execution_count": 335,
     "metadata": {},
     "output_type": "execute_result"
    }
   ],
   "source": [
    "df = df.drop(columns=['PG','SF','PF','SG'])\n",
    "df.head(1)"
   ]
  },
  {
   "cell_type": "code",
   "execution_count": 336,
   "metadata": {},
   "outputs": [
    {
     "name": "stderr",
     "output_type": "stream",
     "text": [
      "<ipython-input-336-3a6134f833e1>:7: SettingWithCopyWarning: \n",
      "A value is trying to be set on a copy of a slice from a DataFrame\n",
      "\n",
      "See the caveats in the documentation: https://pandas.pydata.org/pandas-docs/stable/user_guide/indexing.html#returning-a-view-versus-a-copy\n",
      "  df['FirstName'][i-1] = True\n",
      "<ipython-input-336-3a6134f833e1>:12: SettingWithCopyWarning: \n",
      "A value is trying to be set on a copy of a slice from a DataFrame\n",
      "\n",
      "See the caveats in the documentation: https://pandas.pydata.org/pandas-docs/stable/user_guide/indexing.html#returning-a-view-versus-a-copy\n",
      "  df['FirstName'][i] = True\n",
      "<ipython-input-336-3a6134f833e1>:9: SettingWithCopyWarning: \n",
      "A value is trying to be set on a copy of a slice from a DataFrame\n",
      "\n",
      "See the caveats in the documentation: https://pandas.pydata.org/pandas-docs/stable/user_guide/indexing.html#returning-a-view-versus-a-copy\n",
      "  df['ppg_added'][i] = df['pts_per_g'][i]-df['pts_per_g'][i-1]\n",
      "<ipython-input-336-3a6134f833e1>:10: SettingWithCopyWarning: \n",
      "A value is trying to be set on a copy of a slice from a DataFrame\n",
      "\n",
      "See the caveats in the documentation: https://pandas.pydata.org/pandas-docs/stable/user_guide/indexing.html#returning-a-view-versus-a-copy\n",
      "  df['mpg_added'][i] = df['mp_per_g'][i]-df['mp_per_g'][i-1]\n"
     ]
    }
   ],
   "source": [
    "df['ppg_added']= 0\n",
    "df['mpg_added']= 0 \n",
    "df['FirstName'] = False\n",
    "indexToDelete = []\n",
    "for i in range(1,len(df)-1):\n",
    "    if(i -1 == 0):\n",
    "        df['FirstName'][i-1] = True\n",
    "    elif (df.iloc[i,0]==df.iloc[i-1,0]):\n",
    "        df['ppg_added'][i] = df['pts_per_g'][i]-df['pts_per_g'][i-1]\n",
    "        df['mpg_added'][i] = df['mp_per_g'][i]-df['mp_per_g'][i-1]\n",
    "    else:\n",
    "        df['FirstName'][i] = True\n"
   ]
  },
  {
   "cell_type": "markdown",
   "metadata": {},
   "source": [
    "A new column was added that was supposed to represent how much a player's scoring improved based on the amount of minutes they had gotten or lost from the last to the current season "
   ]
  },
  {
   "cell_type": "code",
   "execution_count": 337,
   "metadata": {},
   "outputs": [
    {
     "data": {
      "text/html": [
       "<div>\n",
       "<style scoped>\n",
       "    .dataframe tbody tr th:only-of-type {\n",
       "        vertical-align: middle;\n",
       "    }\n",
       "\n",
       "    .dataframe tbody tr th {\n",
       "        vertical-align: top;\n",
       "    }\n",
       "\n",
       "    .dataframe thead th {\n",
       "        text-align: right;\n",
       "    }\n",
       "</style>\n",
       "<table border=\"1\" class=\"dataframe\">\n",
       "  <thead>\n",
       "    <tr style=\"text-align: right;\">\n",
       "      <th></th>\n",
       "      <th>Name</th>\n",
       "      <th>age</th>\n",
       "      <th>mp_per_g</th>\n",
       "      <th>fga_per_g</th>\n",
       "      <th>fg3a_per_g</th>\n",
       "      <th>fg2a_per_g</th>\n",
       "      <th>fta_per_g</th>\n",
       "      <th>orb_per_g</th>\n",
       "      <th>drb_per_g</th>\n",
       "      <th>trb_per_g</th>\n",
       "      <th>ast_per_g</th>\n",
       "      <th>stl_per_g</th>\n",
       "      <th>blk_per_g</th>\n",
       "      <th>tov_per_g</th>\n",
       "      <th>pf_per_g</th>\n",
       "      <th>pts_per_g</th>\n",
       "      <th>ppg_added</th>\n",
       "      <th>mpg_added</th>\n",
       "    </tr>\n",
       "  </thead>\n",
       "  <tbody>\n",
       "    <tr>\n",
       "      <th>1</th>\n",
       "      <td>Jaylen Adams</td>\n",
       "      <td>24</td>\n",
       "      <td>2.6</td>\n",
       "      <td>1.1</td>\n",
       "      <td>0.3</td>\n",
       "      <td>0.9</td>\n",
       "      <td>0.0</td>\n",
       "      <td>0.0</td>\n",
       "      <td>0.4</td>\n",
       "      <td>0.4</td>\n",
       "      <td>0.3</td>\n",
       "      <td>0.0</td>\n",
       "      <td>0.0</td>\n",
       "      <td>0.0</td>\n",
       "      <td>0.1</td>\n",
       "      <td>0.3</td>\n",
       "      <td>0</td>\n",
       "      <td>0</td>\n",
       "    </tr>\n",
       "    <tr>\n",
       "      <th>3</th>\n",
       "      <td>Steven Adams</td>\n",
       "      <td>21</td>\n",
       "      <td>25.3</td>\n",
       "      <td>5.7</td>\n",
       "      <td>0.0</td>\n",
       "      <td>5.7</td>\n",
       "      <td>2.9</td>\n",
       "      <td>2.8</td>\n",
       "      <td>4.6</td>\n",
       "      <td>7.5</td>\n",
       "      <td>0.9</td>\n",
       "      <td>0.5</td>\n",
       "      <td>1.2</td>\n",
       "      <td>1.4</td>\n",
       "      <td>3.2</td>\n",
       "      <td>7.7</td>\n",
       "      <td>4</td>\n",
       "      <td>10</td>\n",
       "    </tr>\n",
       "    <tr>\n",
       "      <th>4</th>\n",
       "      <td>Steven Adams</td>\n",
       "      <td>22</td>\n",
       "      <td>25.2</td>\n",
       "      <td>5.3</td>\n",
       "      <td>0.0</td>\n",
       "      <td>5.3</td>\n",
       "      <td>2.5</td>\n",
       "      <td>2.7</td>\n",
       "      <td>3.9</td>\n",
       "      <td>6.7</td>\n",
       "      <td>0.8</td>\n",
       "      <td>0.5</td>\n",
       "      <td>1.1</td>\n",
       "      <td>1.1</td>\n",
       "      <td>2.8</td>\n",
       "      <td>8.0</td>\n",
       "      <td>0</td>\n",
       "      <td>0</td>\n",
       "    </tr>\n",
       "    <tr>\n",
       "      <th>5</th>\n",
       "      <td>Steven Adams</td>\n",
       "      <td>23</td>\n",
       "      <td>29.9</td>\n",
       "      <td>8.2</td>\n",
       "      <td>0.0</td>\n",
       "      <td>8.2</td>\n",
       "      <td>3.2</td>\n",
       "      <td>3.5</td>\n",
       "      <td>4.2</td>\n",
       "      <td>7.7</td>\n",
       "      <td>1.1</td>\n",
       "      <td>1.1</td>\n",
       "      <td>1.0</td>\n",
       "      <td>1.8</td>\n",
       "      <td>2.4</td>\n",
       "      <td>11.3</td>\n",
       "      <td>3</td>\n",
       "      <td>4</td>\n",
       "    </tr>\n",
       "    <tr>\n",
       "      <th>6</th>\n",
       "      <td>Steven Adams</td>\n",
       "      <td>24</td>\n",
       "      <td>32.7</td>\n",
       "      <td>9.4</td>\n",
       "      <td>0.0</td>\n",
       "      <td>9.3</td>\n",
       "      <td>3.8</td>\n",
       "      <td>5.1</td>\n",
       "      <td>4.0</td>\n",
       "      <td>9.0</td>\n",
       "      <td>1.2</td>\n",
       "      <td>1.2</td>\n",
       "      <td>1.0</td>\n",
       "      <td>1.7</td>\n",
       "      <td>2.8</td>\n",
       "      <td>13.9</td>\n",
       "      <td>2</td>\n",
       "      <td>2</td>\n",
       "    </tr>\n",
       "  </tbody>\n",
       "</table>\n",
       "</div>"
      ],
      "text/plain": [
       "           Name  age  mp_per_g  fga_per_g  fg3a_per_g  fg2a_per_g  fta_per_g  \\\n",
       "1  Jaylen Adams   24       2.6        1.1         0.3         0.9        0.0   \n",
       "3  Steven Adams   21      25.3        5.7         0.0         5.7        2.9   \n",
       "4  Steven Adams   22      25.2        5.3         0.0         5.3        2.5   \n",
       "5  Steven Adams   23      29.9        8.2         0.0         8.2        3.2   \n",
       "6  Steven Adams   24      32.7        9.4         0.0         9.3        3.8   \n",
       "\n",
       "   orb_per_g  drb_per_g  trb_per_g  ast_per_g  stl_per_g  blk_per_g  \\\n",
       "1        0.0        0.4        0.4        0.3        0.0        0.0   \n",
       "3        2.8        4.6        7.5        0.9        0.5        1.2   \n",
       "4        2.7        3.9        6.7        0.8        0.5        1.1   \n",
       "5        3.5        4.2        7.7        1.1        1.1        1.0   \n",
       "6        5.1        4.0        9.0        1.2        1.2        1.0   \n",
       "\n",
       "   tov_per_g  pf_per_g  pts_per_g  ppg_added  mpg_added  \n",
       "1        0.0       0.1        0.3          0          0  \n",
       "3        1.4       3.2        7.7          4         10  \n",
       "4        1.1       2.8        8.0          0          0  \n",
       "5        1.8       2.4       11.3          3          4  \n",
       "6        1.7       2.8       13.9          2          2  "
      ]
     },
     "execution_count": 337,
     "metadata": {},
     "output_type": "execute_result"
    }
   ],
   "source": [
    "df.drop(df[df['FirstName'] == True].index, inplace = True)\n",
    "df = df.drop(['FirstName'],axis=1)\n",
    "df.head()"
   ]
  },
  {
   "cell_type": "markdown",
   "metadata": {},
   "source": []
  },
  {
   "cell_type": "markdown",
   "metadata": {},
   "source": [
    "## Linear regression "
   ]
  },
  {
   "cell_type": "code",
   "execution_count": 338,
   "metadata": {},
   "outputs": [
    {
     "data": {
      "image/png": "[encoded data removed]",
      "text/plain": [
       "<Figure size 432x288 with 1 Axes>"
      ]
     },
     "metadata": {
      "needs_background": "light"
     },
     "output_type": "display_data"
    }
   ],
   "source": [
    "_ = sns.scatterplot(x = df['mpg_added'], y= df['ppg_added'],color='orange')"
   ]
  },
  {
   "cell_type": "markdown",
   "metadata": {},
   "source": [
    "Based on the following scatter plot, there seems to be a linear relationship between minutes per game added and point increases "
   ]
  },
  {
   "cell_type": "code",
   "execution_count": 339,
   "metadata": {},
   "outputs": [],
   "source": [
    "xMpgAdded = df[['mpg_added']]\n",
    "yPointsAdded = df[['ppg_added']]"
   ]
  },
  {
   "cell_type": "code",
   "execution_count": 341,
   "metadata": {},
   "outputs": [
    {
     "data": {
      "text/plain": [
       "0.65456594877583"
      ]
     },
     "execution_count": 341,
     "metadata": {},
     "output_type": "execute_result"
    }
   ],
   "source": [
    "model.fit(xMpgAdded,yPointsAdded)\n",
    "model.score(xMpgAdded,yPointsAdded)"
   ]
  },
  {
   "cell_type": "markdown",
   "metadata": {},
   "source": [
    "Using just these 2 variables, the model had a score of 0.665. However, there are other factors that could contribute to a player having increased scoring production if given more minutes such as how they score and their age. Players who tend to take more threes at a decent rate are more likely to score more if they are given more minutes than players who exclusively take 2 point shots. Additionally, the youth of a player may facotor into this as players who tend to be younger tend to take larger leaps if given more oppurtunities than older players"
   ]
  },
  {
   "cell_type": "code",
   "execution_count": 342,
   "metadata": {},
   "outputs": [],
   "source": [
    "x = df[['age','mp_per_g','fg3a_per_g','fg2a_per_g','fta_per_g',\n",
    "         'pts_per_g','mpg_added']]\n",
    "\n",
    "y  = df['ppg_added']"
   ]
  },
  {
   "cell_type": "code",
   "execution_count": 343,
   "metadata": {},
   "outputs": [
    {
     "data": {
      "text/plain": [
       "LinearRegression()"
      ]
     },
     "execution_count": 343,
     "metadata": {},
     "output_type": "execute_result"
    }
   ],
   "source": [
    "model.fit(x,y)"
   ]
  },
  {
   "cell_type": "code",
   "execution_count": 344,
   "metadata": {},
   "outputs": [
    {
     "data": {
      "text/plain": [
       "0.7080183457519672"
      ]
     },
     "execution_count": 344,
     "metadata": {},
     "output_type": "execute_result"
    }
   ],
   "source": [
    "model.score(x,y)"
   ]
  },
  {
   "cell_type": "code",
   "execution_count": 345,
   "metadata": {},
   "outputs": [
    {
     "data": {
      "text/plain": [
       "array([0.68073327])"
      ]
     },
     "execution_count": 345,
     "metadata": {},
     "output_type": "execute_result"
    }
   ],
   "source": [
    "#Putting in Ben Simmon's Rookie year \n",
    "model.predict([[21,33.7,0.1,12.2,4.2,15.8,0.5]])"
   ]
  },
  {
   "cell_type": "markdown",
   "metadata": {},
   "source": [
    "The following prediction which uses Ben Simmon's rookie year as a sample predicted that he would put up 1.0 more points if he got 0.5 more minutes (his minute increase in his Sophmore year. His Sophmore year point increase was 1.1 "
   ]
  },
  {
   "cell_type": "markdown",
   "metadata": {},
   "source": [
    "## Logistic regression "
   ]
  },
  {
   "cell_type": "markdown",
   "metadata": {},
   "source": [
    "In some cases, the rate at which a player is able to score may decrease as they get more minutes due to a variety of factors. Here we'll investigate how other regressions compare to a linear regression "
   ]
  },
  {
   "cell_type": "code",
   "execution_count": null,
   "metadata": {},
   "outputs": [],
   "source": []
  },
  {
   "cell_type": "code",
   "execution_count": 346,
   "metadata": {},
   "outputs": [
    {
     "data": {
      "text/plain": [
       "LogisticRegression(max_iter=100000)"
      ]
     },
     "execution_count": 346,
     "metadata": {},
     "output_type": "execute_result"
    }
   ],
   "source": [
    "logModel.fit(x,y)"
   ]
  },
  {
   "cell_type": "code",
   "execution_count": 347,
   "metadata": {},
   "outputs": [
    {
     "data": {
      "text/plain": [
       "0.35131195335276966"
      ]
     },
     "execution_count": 347,
     "metadata": {},
     "output_type": "execute_result"
    }
   ],
   "source": [
    "logModel.score(x,y)"
   ]
  },
  {
   "cell_type": "code",
   "execution_count": 348,
   "metadata": {},
   "outputs": [
    {
     "data": {
      "text/plain": [
       "array([0])"
      ]
     },
     "execution_count": 348,
     "metadata": {},
     "output_type": "execute_result"
    }
   ],
   "source": [
    "logModel.predict([[21,33.7,0.1,12.2,4.2,15.8,0]])"
   ]
  },
  {
   "cell_type": "markdown",
   "metadata": {},
   "source": [
    "The model score is not as high as the linear regression "
   ]
  },
  {
   "cell_type": "markdown",
   "metadata": {},
   "source": [
    "## Polynomial regression "
   ]
  },
  {
   "cell_type": "code",
   "execution_count": 349,
   "metadata": {},
   "outputs": [
    {
     "data": {
      "text/plain": [
       "Pipeline(steps=[('polynomial', PolynomialFeatures()),\n",
       "                ('modal', LinearRegression())])"
      ]
     },
     "execution_count": 349,
     "metadata": {},
     "output_type": "execute_result"
    }
   ],
   "source": [
    "xMinutes = x['mp_per_g'].to_numpy()\n",
    "yPoints = df['pts_per_g'].to_numpy()\n",
    "Input=[('polynomial',PolynomialFeatures(degree=2)),('modal',LinearRegression())]\n",
    "pipe=Pipeline(Input)\n",
    "pipe.fit(xMinutes.reshape(-1,1),yPoints.reshape(-1,1))"
   ]
  },
  {
   "cell_type": "code",
   "execution_count": 350,
   "metadata": {},
   "outputs": [
    {
     "name": "stdout",
     "output_type": "stream",
     "text": [
      "2744\n",
      "2744\n"
     ]
    }
   ],
   "source": [
    "print(len(xMinutes))\n",
    "print(len(yPoints))"
   ]
  },
  {
   "cell_type": "code",
   "execution_count": 351,
   "metadata": {},
   "outputs": [],
   "source": [
    "lm=LinearRegression()\n",
    "lm.fit(xMinutes.reshape(-1,1),yPoints.reshape(-1,1))\n",
    "y_pred=lm.predict(xMinutes.reshape(-1,1))"
   ]
  },
  {
   "cell_type": "code",
   "execution_count": 352,
   "metadata": {},
   "outputs": [
    {
     "data": {
      "text/plain": [
       "<matplotlib.collections.PathCollection at 0x7f81c0e4bd90>"
      ]
     },
     "execution_count": 352,
     "metadata": {},
     "output_type": "execute_result"
    },
    {
     "data": {
      "image/png": "[encoded data removed]",
      "text/plain": [
       "<Figure size 432x288 with 1 Axes>"
      ]
     },
     "metadata": {
      "needs_background": "light"
     },
     "output_type": "display_data"
    }
   ],
   "source": [
    "plt.scatter(xMinutes,yPoints)"
   ]
  },
  {
   "cell_type": "markdown",
   "metadata": {},
   "source": [
    "When looking at just a points versus minutes comparison for every player each season we can see that there seems to be a quadratic relationship. "
   ]
  },
  {
   "cell_type": "code",
   "execution_count": 353,
   "metadata": {},
   "outputs": [
    {
     "data": {
      "image/png": "[encoded data removed]",
      "text/plain": [
       "<Figure size 720x432 with 1 Axes>"
      ]
     },
     "metadata": {
      "needs_background": "light"
     },
     "output_type": "display_data"
    }
   ],
   "source": [
    "#Polyinoial regression taken from \n",
    "#https://moonbooks.org/Articles/How-to-implement-a-polynomial-linear-regression-using-scikit-learn-and-python-3-/ \n",
    "poly_pred=pipe.predict(xMinutes.reshape(-1,1))\n",
    "#sorting predicted values with respect to predictor\n",
    "sorted_zip = sorted(zip(xMinutes,poly_pred))\n",
    "x_poly, poly_pred = zip(*sorted_zip)\n",
    "#plotting predictions\n",
    "plt.figure(figsize=(10,6))\n",
    "plt.scatter(xMinutes,yPoints,s=15)\n",
    "plt.plot(xMinutes,y_pred,color='r',label='Linear Regression')\n",
    "plt.plot(x_poly,poly_pred,color='g',label='Polynomial Regression')\n",
    "plt.xlabel('Minutes',fontsize=12)\n",
    "plt.ylabel('Points',fontsize=12)\n",
    "plt.legend()\n",
    "plt.show()\n"
   ]
  }
 ],
 "metadata": {
  "kernelspec": {
   "display_name": "Python 3",
   "language": "python",
   "name": "python3"
  },
  "language_info": {
   "codemirror_mode": {
    "name": "ipython",
    "version": 3
   },
   "file_extension": ".py",
   "mimetype": "text/x-python",
   "name": "python",
   "nbconvert_exporter": "python",
   "pygments_lexer": "ipython3",
   "version": "3.8.8"
  }
 },
 "nbformat": 4,
 "nbformat_minor": 4
}
